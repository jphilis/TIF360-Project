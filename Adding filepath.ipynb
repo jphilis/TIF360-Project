{
 "cells": [
  {
   "cell_type": "code",
   "execution_count": 54,
   "id": "34b8a36c",
   "metadata": {},
   "outputs": [
    {
     "name": "stdout",
     "output_type": "stream",
     "text": [
      "File path column added and saved to /Users/adhvaitsrinath/Desktop/neural_network/Data.xlsx\n"
     ]
    }
   ],
   "source": [
    "import os\n",
    "import pandas as pd\n",
    "\n",
    "# Define folder path and Excel file path\n",
    "folder_path = \"/Users/adhvaitsrinath/Desktop/neural_network/data_folder\"\n",
    "excel_file = \"/Users/adhvaitsrinath/Desktop/neural_network/Data.xlsx\"\n",
    "\n",
    "# Create a function to generate file paths\n",
    "def generate_file_path(row):\n",
    "    boks_id = row['boks']\n",
    "    tid_id = row['tid']\n",
    "    project_id = row['projekt']\n",
    "    Lokalitet_id = row['Lokalitet']\n",
    "    lat_id = str(row['lat']).replace('.', ',') \n",
    "    lon_id = str(row['lon']).replace('.', ',')  \n",
    "    dato_id = row['dato']\n",
    "    art3_id = row['art3']\n",
    "    \n",
    "    filename = f\"{boks_id}_{project_id}_#_{Lokalitet_id}_{lat_id}_{lon_id}_{dato_id}_{tid_id}\"  \n",
    "    return os.path.join(filename)\n",
    "\n",
    "# Read the data from the Excel file\n",
    "df = pd.read_excel(excel_file)\n",
    "\n",
    "# Add a new column 'file_path' to the DataFrame\n",
    "df['file_path'] = df.apply(generate_file_path, axis=1)\n",
    "\n",
    "# Save the updated DataFrame back to the original Excel file\n",
    "df.to_excel(excel_file, index=False)  # Don't save the index column\n",
    "\n",
    "print(\"File path column added and saved to\", excel_file)\n"
   ]
  }
 ],
 "metadata": {
  "kernelspec": {
   "display_name": "Python 3 (ipykernel)",
   "language": "python",
   "name": "python3"
  },
  "language_info": {
   "codemirror_mode": {
    "name": "ipython",
    "version": 3
   },
   "file_extension": ".py",
   "mimetype": "text/x-python",
   "name": "python",
   "nbconvert_exporter": "python",
   "pygments_lexer": "ipython3",
   "version": "3.9.12"
  }
 },
 "nbformat": 4,
 "nbformat_minor": 5
}
