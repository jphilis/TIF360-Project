{
 "cells": [
  {
   "cell_type": "code",
   "execution_count": 20,
   "metadata": {},
   "outputs": [],
   "source": [
    "import urllib.parse\n",
    "import time\n",
    "import requests\n",
    "from bs4 import BeautifulSoup\n",
    "\n",
    "\n",
    "from pathlib import Path"
   ]
  },
  {
   "cell_type": "code",
   "execution_count": 21,
   "metadata": {},
   "outputs": [],
   "source": [
    "\n",
    "#Max number of files per bat to download, set to -1 for all bats\n",
    "max_files_per_bat = -1\n",
    "#Only print download link?\n",
    "no_download = False\n",
    "#Download only this bird, leave blank for all\n",
    "download_only = \"Myotis bechsteinii\"\n",
    "\n",
    "#If file exists, download again or skip?\n",
    "overwrite = False"
   ]
  },
  {
   "cell_type": "code",
   "execution_count": 22,
   "metadata": {},
   "outputs": [
    {
     "name": "stdout",
     "output_type": "stream",
     "text": [
      "Reading bat category: Myotis daubentonii\n",
      "Not correct bat Myotis daubentonii Myotis bechsteinii\n",
      "Reading bat category: Myotis dasycneme\n",
      "Not correct bat Myotis dasycneme Myotis bechsteinii\n",
      "Reading bat category: Myotis brandtii\n",
      "Not correct bat Myotis brandtii Myotis bechsteinii\n",
      "Reading bat category: Myotis mystacinus\n",
      "Not correct bat Myotis mystacinus Myotis bechsteinii\n",
      "Reading bat category: Myotis nattereri\n",
      "Not correct bat Myotis nattereri Myotis bechsteinii\n",
      "Reading bat category: Myotis bechsteinii\n"
     ]
    },
    {
     "name": "stderr",
     "output_type": "stream",
     "text": [
      "100%|██████████| 30/30 [00:35<00:00,  1.18s/it]"
     ]
    },
    {
     "name": "stdout",
     "output_type": "stream",
     "text": [
      "Reading bat category: Myotis myotis\n",
      "Not correct bat Myotis myotis Myotis bechsteinii\n",
      "Reading bat category: Pipistrellus pygmaeus\n",
      "Not correct bat Pipistrellus pygmaeus Myotis bechsteinii\n",
      "Reading bat category: Pipistrellus pipistrellus\n",
      "Not correct bat Pipistrellus pipistrellus Myotis bechsteinii\n",
      "Reading bat category: Pipistrellus nathusii\n",
      "Not correct bat Pipistrellus nathusii Myotis bechsteinii\n",
      "Reading bat category: Nyctalus noctula\n",
      "Not correct bat Nyctalus noctula Myotis bechsteinii\n",
      "Reading bat category: Nyctalus leisleri\n",
      "Not correct bat Nyctalus leisleri Myotis bechsteinii\n",
      "Reading bat category: Eptesicus serotinus\n",
      "Not correct bat Eptesicus serotinus Myotis bechsteinii\n",
      "Reading bat category: Eptesicus nilssonii\n",
      "Not correct bat Eptesicus nilssonii Myotis bechsteinii\n",
      "Reading bat category: Vespertilio murinus\n",
      "Not correct bat Vespertilio murinus Myotis bechsteinii\n",
      "Reading bat category: Barbastella barbastellus\n",
      "Not correct bat Barbastella barbastellus Myotis bechsteinii\n",
      "Reading bat category: Plecotus auritus\n",
      "Not correct bat Plecotus auritus Myotis bechsteinii\n",
      "Reading bat category: Plecotus austriacus\n",
      "Not correct bat Plecotus austriacus Myotis bechsteinii\n",
      "Reading bat category: Myotis alcathoe\n",
      "Not correct bat Myotis alcathoe Myotis bechsteinii\n"
     ]
    },
    {
     "name": "stderr",
     "output_type": "stream",
     "text": [
      "\n"
     ]
    }
   ],
   "source": [
    "import os\n",
    "#nice progress bars\n",
    "from tqdm import tqdm\n",
    "\n",
    "\n",
    "species_list = [\n",
    "    \"Myotis daubentonii\",\n",
    "    \"Myotis dasycneme\",   \n",
    "    \"Myotis brandtii\",\n",
    "    \"Myotis mystacinus\",\n",
    "    \"Myotis nattereri\",\n",
    "    \"Myotis bechsteinii\",\n",
    "    \"Myotis myotis\",\n",
    "    \"Pipistrellus pygmaeus\",\n",
    "    \"Pipistrellus pipistrellus\",\n",
    "    \"Pipistrellus nathusii\",\n",
    "    \"Nyctalus noctula\",\n",
    "    \"Nyctalus leisleri\",\n",
    "    \"Eptesicus serotinus\",\n",
    "    \"Eptesicus nilssonii\",\n",
    "    \"Vespertilio murinus\",\n",
    "    \"Barbastella barbastellus\",\n",
    "    \"Plecotus auritus\",\n",
    "    \"Plecotus austriacus\",\n",
    "    \"Myotis alcathoe\"\n",
    "]\n",
    "\n",
    "for bat in species_list:\n",
    "    print(f\"Reading bat category: {bat}\")\n",
    "    if download_only != \"\" and download_only != bat:\n",
    "        #We are not downloding this bird, skip\n",
    "        print(\"Not correct bat\", bat, download_only)\n",
    "        continue\n",
    "    \n",
    "    bat_name_lower = bat.lower().replace(\" \", \"_\")\n",
    "    directory = Path(f\"../data/chirovox/all/{bat_name_lower}\")\n",
    "    \n",
    "    if not os.path.exists(directory):\n",
    "        os.makedirs(directory)\n",
    "    \n",
    "    encoded_bat = urllib.parse.quote(bat)\n",
    "    link = f\"https://www.chirovox.org/species_map.php?q={encoded_bat}\"\n",
    "    \n",
    "    bat_page = requests.get(link)\n",
    "    soup = BeautifulSoup(bat_page.text, 'html.parser')    \n",
    "    #Varje TR är en \"entry\" i listan\n",
    "    #detta är första, sen andra\n",
    "    #Så hittar vi bara länken för varje entry. Nu finns det \"break\" längst ner som inte fortsätter for-loopen\n",
    "    trs = soup.find_all('tr')\n",
    "    for idx, tr in enumerate(tqdm(trs)):\n",
    "        if idx == max_files_per_bat:\n",
    "            print(f\"Only saving {max_files_per_bat} files.\")\n",
    "            break\n",
    "        \n",
    "        tds = tr.find_all('td')\n",
    "        if tds:\n",
    "            last_td = tds[-1]\n",
    "            a_tag = last_td.find('a')\n",
    "            \n",
    "            if a_tag and 'href' in a_tag.attrs:\n",
    "                scraped_link = a_tag['href']\n",
    "                \n",
    "                bat_page = requests.get(f\"https://www.chirovox.org/{scraped_link}\")\n",
    "                soup2 = BeautifulSoup(bat_page.text, 'html.parser')\n",
    "               \n",
    "                a_tags_2 = soup2.find_all('a')\n",
    "                download_link = a_tags_2[-1]['href']\n",
    "                original_filename = download_link.split(\"/\")[-1]\n",
    "                file_name = bat_name_lower + \"-\" + original_filename\n",
    "                \n",
    "                if (not no_download):\n",
    "                    #Check if file already exists\n",
    "                    \n",
    "                    if Path(f\"{directory}/{file_name}\").exists() and not overwrite:\n",
    "                        print(f\"File {file_name} already exists. Skipping\")\n",
    "                    \n",
    "                    #get file, download it from source\n",
    "                    response = requests.get(download_link)\n",
    "                    with open(f\"{directory}/{file_name}\", mode=\"wb\") as file:\n",
    "                        file.write(response.content)\n",
    "                #Add delay so the website doesn't ban us\n",
    "                time.sleep(1)\n",
    "    \n"
   ]
  }
 ],
 "metadata": {
  "kernelspec": {
   "display_name": "Python 3",
   "language": "python",
   "name": "python3"
  },
  "language_info": {
   "codemirror_mode": {
    "name": "ipython",
    "version": 3
   },
   "file_extension": ".py",
   "mimetype": "text/x-python",
   "name": "python",
   "nbconvert_exporter": "python",
   "pygments_lexer": "ipython3",
   "version": "3.11.0"
  }
 },
 "nbformat": 4,
 "nbformat_minor": 2
}
